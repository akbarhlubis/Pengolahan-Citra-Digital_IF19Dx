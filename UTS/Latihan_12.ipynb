{
  "cells": [
    {
      "cell_type": "markdown",
      "metadata": {
        "id": "EGx7aOZw9uSy"
      },
      "source": [
        "#Latihan 12 Neighbor Pixel\n",
        "Nama: Akbar Hamonangan Lubis\n",
        "| NPM: 19312116\n"
      ]
    },
    {
      "cell_type": "code",
      "execution_count": 11,
      "metadata": {
        "id": "Z8m7MgOA9g_o"
      },
      "outputs": [],
      "source": [
        "from PIL import Image\n",
        "import numpy as np\n",
        "import matplotlib.pyplot as plt\n",
        "import random"
      ]
    },
    {
      "cell_type": "code",
      "execution_count": 12,
      "metadata": {
        "id": "EythAfQl_G8-"
      },
      "outputs": [],
      "source": [
        "im1 = Image.open(\"asset_praktikum_akbar.jpg\").resize((255,255)).convert(\"L\")\n",
        "arr1 = np.array(im1.copy())\n",
        "arr2 = np.array(im1.copy())"
      ]
    },
    {
      "cell_type": "code",
      "execution_count": 13,
      "metadata": {
        "id": "kfugW6OYWcEV"
      },
      "outputs": [],
      "source": [
        "keys = np.arange(256)\n",
        "hist1 = np.zeros((256), dtype= np.uint32)\n",
        "hist2 = np.zeros((256), dtype= np.uint32)\n",
        "kernel = np.array([[1/9,1/9,1/9],[1/9,1/9,1/9],[1/9,1/9,1/9]], np.single)\n",
        "hs = np.floor(kernel.shape[0]/2).astype(np.uint32)"
      ]
    },
    {
      "cell_type": "code",
      "execution_count": 14,
      "metadata": {},
      "outputs": [],
      "source": [
        "for y in range(arr1.shape[0]):\n",
        "    for x in range(arr1.shape[1]):\n",
        "        if(random.random()>0.97):\n",
        "           arr1[y,x] = 255\n",
        "        if(random.random()<0.03):\n",
        "            arr1[y,x] = 0"
      ]
    },
    {
      "cell_type": "code",
      "execution_count": 15,
      "metadata": {},
      "outputs": [],
      "source": [
        "for y in range(arr1.shape[0]):\n",
        "    for x in range(arr1.shape[1]):\n",
        "        hist1[arr1[y,x]] = hist1[arr1[y,x]]+1;\n",
        "        tmp = 0;\n",
        "        for ky in range(kernel.shape[0]):\n",
        "            for kx in range(kernel.shape[0]):\n",
        "                py = min(max(y+ky-hs,0),arr1.shape[0]-1)\n",
        "                px = min(max(x+kx-hs,0),arr1.shape[1]-1)\n",
        "                tmp = tmp +arr1[py,px]*kernel[ky,kx]\n",
        "            arr2[y,x] = np.floor(tmp).astype(np.uint8)\n",
        "            hist2[arr2[y,x]] = hist2[arr2[y,x]]+1;"
      ]
    },
    {
      "cell_type": "code",
      "execution_count": 16,
      "metadata": {},
      "outputs": [],
      "source": [
        "cdf1 = hist1.cumsum()\n",
        "cdf1_norm = cdf1 * float(hist1.max()) / cdf1.max()"
      ]
    },
    {
      "cell_type": "code",
      "execution_count": 17,
      "metadata": {},
      "outputs": [],
      "source": [
        "cdf2 = hist2.cumsum()\n",
        "cdf2_norm = cdf2 * float(hist2.max()) / cdf2.max()"
      ]
    },
    {
      "cell_type": "code",
      "execution_count": 18,
      "metadata": {},
      "outputs": [
        {
          "data": {
            "image/png": "[encoded data removed]",
            "text/plain": [
              "<Figure size 432x288 with 1 Axes>"
            ]
          },
          "metadata": {
            "needs_background": "light"
          },
          "output_type": "display_data"
        }
      ],
      "source": [
        "fig = plt.figure(1)\n",
        "plt.bar(keys,hist1)\n",
        "plt.plot(cdf1_norm, color = 'r')\n",
        "fig.canvas.draw()\n",
        "data1 = np.frombuffer(fig.canvas.tostring_rgb(), dtype=np.uint8)\n",
        "data1 = data1.reshape(fig.canvas.get_width_height()[::-1] + (3,))\n",
        "histImage1 = Image.fromarray(data1).resize((255,255)).convert(\"L\")\n",
        "histNp1 = np.array(histImage1)"
      ]
    },
    {
      "cell_type": "code",
      "execution_count": 19,
      "metadata": {},
      "outputs": [
        {
          "data": {
            "image/png": "[encoded data removed]",
            "text/plain": [
              "<Figure size 432x288 with 1 Axes>"
            ]
          },
          "metadata": {
            "needs_background": "light"
          },
          "output_type": "display_data"
        }
      ],
      "source": [
        "fig = plt.figure(2)\n",
        "plt.bar(keys,hist2)\n",
        "plt.plot(cdf2_norm, color = 'r')\n",
        "fig.canvas.draw()\n",
        "data2 = np.frombuffer(fig.canvas.tostring_rgb(), dtype=np.uint8)\n",
        "data2 = data2.reshape(fig.canvas.get_width_height()[::-1] + (3,))\n",
        "histImage2 = Image.fromarray(data2).resize((255,255)).convert(\"L\")\n",
        "histNp2 = np.array(histImage2)"
      ]
    },
    {
      "cell_type": "code",
      "execution_count": 22,
      "metadata": {},
      "outputs": [],
      "source": [
        "Image.fromarray(np.hstack(( np.vstack((histNp1,arr1)), np.vstack((histNp2,arr2))))).show()"
      ]
    }
  ],
  "metadata": {
    "colab": {
      "name": "Latihan 12.ipynb",
      "provenance": []
    },
    "kernelspec": {
      "display_name": "Python 3",
      "name": "python3"
    },
    "language_info": {
      "codemirror_mode": {
        "name": "ipython",
        "version": 3
      },
      "file_extension": ".py",
      "mimetype": "text/x-python",
      "name": "python",
      "nbconvert_exporter": "python",
      "pygments_lexer": "ipython3",
      "version": "3.9.0"
    }
  },
  "nbformat": 4,
  "nbformat_minor": 0
}
