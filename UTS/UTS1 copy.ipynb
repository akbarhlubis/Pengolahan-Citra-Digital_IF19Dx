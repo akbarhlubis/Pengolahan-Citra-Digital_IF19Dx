{
 "cells": [
  {
   "cell_type": "code",
   "execution_count": 22,
   "metadata": {},
   "outputs": [
    {
     "data": {
      "image/png": "[encoded data removed]",
      "text/plain": [
       "<Figure size 432x288 with 1 Axes>"
      ]
     },
     "metadata": {
      "needs_background": "light"
     },
     "output_type": "display_data"
    },
    {
     "data": {
      "image/png": "[encoded data removed]",
      "text/plain": [
       "<Figure size 432x288 with 1 Axes>"
      ]
     },
     "metadata": {
      "needs_background": "light"
     },
     "output_type": "display_data"
    }
   ],
   "source": [
    "from PIL import Image\n",
    "import numpy as np\n",
    "import matplotlib.pyplot as plt\n",
    "import random\n",
    "\n",
    "# membaca gambar\n",
    "im1 = Image.open(\"asset_UTS1.jpeg\").resize((255,255)).convert(\"L\")\n",
    "arr1 = np.array(im1.copy())\n",
    "arr2 = np.array(im1.copy())\n",
    "\n",
    "# memproses untuk mengurangi noise\n",
    "keys = np.arange(256)\n",
    "hist1 = np.zeros((256), dtype= np.uint32)\n",
    "hist2 = np.zeros((256), dtype= np.uint32)\n",
    "kernel = np.array([[1/9,1/9,1/9],[1/9,1/9,1/9],[1/9,1/9,1/9]], np.single)\n",
    "hs = np.floor(kernel.shape[0]/2).astype(np.uint32)\n",
    "\n",
    "for y in range(arr1.shape[0]):\n",
    "    for x in range(arr1.shape[1]):\n",
    "        if(random.random()>0.97):\n",
    "           arr1[y,x] = 255\n",
    "        if(random.random()<0.03):\n",
    "            arr1[y,x] = 0\n",
    "            \n",
    "for y in range(arr1.shape[0]):\n",
    "    for x in range(arr1.shape[1]):\n",
    "        hist1[arr1[y,x]] = hist1[arr1[y,x]]+1;\n",
    "        tmp = 0;\n",
    "        for ky in range(kernel.shape[0]):\n",
    "            for kx in range(kernel.shape[0]):\n",
    "                py = min(max(y+ky-hs,0),arr1.shape[0]-1)\n",
    "                px = min(max(x+kx-hs,0),arr1.shape[1]-1)\n",
    "                tmp = tmp +arr1[py,px]*kernel[ky,kx]\n",
    "            arr2[y,x] = np.floor(tmp).astype(np.uint8)\n",
    "            hist2[arr2[y,x]] = hist2[arr2[y,x]]+1;\n",
    "\n",
    "cdf1 = hist1.cumsum()\n",
    "cdf1_norm = cdf1 * float(hist1.max()) / cdf1.max()\n",
    "\n",
    "cdf2 = hist2.cumsum()\n",
    "cdf2_norm = cdf2 * float(hist2.max()) / cdf2.max()\n",
    "\n",
    "fig = plt.figure(1)\n",
    "plt.bar(keys,hist1)\n",
    "plt.plot(cdf1_norm, color = 'r')\n",
    "fig.canvas.draw()\n",
    "data1 = np.frombuffer(fig.canvas.tostring_rgb(), dtype=np.uint8)\n",
    "data1 = data1.reshape(fig.canvas.get_width_height()[::-1] + (3,))\n",
    "histImage1 = Image.fromarray(data1).resize((255,255)).convert(\"L\")\n",
    "histNp1 = np.array(histImage1)\n",
    "\n",
    "fig = plt.figure(2)\n",
    "plt.bar(keys,hist2)\n",
    "plt.plot(cdf2_norm, color = 'r')\n",
    "fig.canvas.draw()\n",
    "data2 = np.frombuffer(fig.canvas.tostring_rgb(), dtype=np.uint8)\n",
    "data2 = data2.reshape(fig.canvas.get_width_height()[::-1] + (3,))\n",
    "histImage2 = Image.fromarray(data2).resize((255,255)).convert(\"L\")\n",
    "histNp2 = np.array(histImage2)\n",
    "\n",
    "# JAWABAN NOMOR 1: menampilkan gambar yang sudah direduksi noise salt & peppernya dengan diubah menjadi grayscale\n",
    "nomor1 = Image.fromarray(np.hstack(( np.vstack((histNp1,arr1)), np.vstack((histNp2,arr2))))).save('19312116_Akbar Hamonangan Lubis_UTS_Final\\Hasil_UTS_Nomor1.png')\n",
    "\n",
    "# meningkatkan intetitas warna hitam\n",
    "arr3 = np.array(im1.copy())\n",
    "for y in range(arr3.shape[0]):\n",
    "    for x in range(arr3.shape[1]):\n",
    "        if(arr3[y,x]<127):\n",
    "            arr3[y,x] = 0\n",
    "        else:\n",
    "            arr3[y,x] = 255\n",
    "# meningkatkan intetitas warna putih\n",
    "arr4 = np.array(im1.copy())\n",
    "for y in range(arr4.shape[0]):\n",
    "    for x in range(arr4.shape[1]):\n",
    "        if(arr4[y,x]>127):\n",
    "            arr4[y,x] = 0\n",
    "        else:\n",
    "            arr4[y,x] = 255\n",
    "\n",
    "# JAWABAN NOMOR 2: menampilkan gambar yang objek selain gambar sudah digelapkan\n",
    "nomor2 = Image.fromarray(np.hstack(( np.vstack((arr3)), np.vstack((arr4))))).save('19312116_Akbar Hamonangan Lubis_UTS_Final\\Hasil_UTS_Nomor2.png')\n",
    "\n",
    "# menampilkan tepi gambar\n",
    "kernel1 = np.array([[1,0,-1],[2,0,-2],[1,0,-1]], np.single) \n",
    "kernel2 = np.array([[1,2,1],[0,0,0],[-1,-2,-1]], np.single)\n",
    "hs = np.floor(kernel1.shape[0]/2).astype(np.uint32)\n",
    "\n",
    "for y in range(arr3.shape[0]):\n",
    "    for x in range(arr3.shape[1]):\n",
    "        tmpK1 = 0;\n",
    "        tmpK2 = 0;\n",
    "        for ky in range(kernel1.shape[0]):\n",
    "            for kx in range(kernel2.shape[0]):\n",
    "                py = min(max(y+ky-hs,0),arr3.shape[0]-1)\n",
    "                px = min(max(x+kx-hs,0),arr3.shape[1]-1)\n",
    "                tmpK1 = tmpK1 + arr3[py,px]*kernel1[ky,kx]\n",
    "                tmpK2 = tmpK2 + arr3[py,px]*kernel2[ky,kx]\n",
    "                \n",
    "        tmpK1 = 255-tmpK1\n",
    "        tmpK2 = 255-tmpK2\n",
    "        arr2[y,x] = np.floor(min(max(tmpK1,0),255)).astype(np.uint8)\n",
    "        arr3[y,x] = np.floor(min(max(tmpK2,0),255)).astype(np.uint8)\n",
    "        arr4[y,x] = np.floor(min(max((tmpK1+tmpK2)/2,0),255)).astype(np.uint8)\n",
    "\n",
    "# menampilkan tepi pada gambar\n",
    "nomor3 = Image.fromarray(np.hstack((arr1,arr2,arr3,arr4))).save('19312116_Akbar Hamonangan Lubis_UTS_Final\\Hasil_UTS_Nomor3.png')"
   ]
  }
 ],
 "metadata": {
  "interpreter": {
   "hash": "1d5c1156327dacead463cc502c55ebae8ce9c8c01979cf154173ff808e75bf55"
  },
  "kernelspec": {
   "display_name": "Python 3.9.0 64-bit",
   "language": "python",
   "name": "python3"
  },
  "language_info": {
   "codemirror_mode": {
    "name": "ipython",
    "version": 3
   },
   "file_extension": ".py",
   "mimetype": "text/x-python",
   "name": "python",
   "nbconvert_exporter": "python",
   "pygments_lexer": "ipython3",
   "version": "3.9.0"
  },
  "orig_nbformat": 4
 },
 "nbformat": 4,
 "nbformat_minor": 2
}
