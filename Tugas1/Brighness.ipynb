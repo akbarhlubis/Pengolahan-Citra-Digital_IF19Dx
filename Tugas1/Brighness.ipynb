{
 "cells": [
  {
   "cell_type": "markdown",
   "metadata": {},
   "source": [
    "# Brigthness\n",
    "Memanipulasi kecerahan pada gambar"
   ]
  },
  {
   "cell_type": "markdown",
   "metadata": {},
   "source": [
    "### Library"
   ]
  },
  {
   "cell_type": "code",
   "execution_count": 86,
   "metadata": {},
   "outputs": [],
   "source": [
    "# Mengimport library yang dibutuhkan\n",
    "from PIL import Image\n",
    "import numpy as np"
   ]
  },
  {
   "cell_type": "code",
   "execution_count": 87,
   "metadata": {},
   "outputs": [
    {
     "name": "stdout",
     "output_type": "stream",
     "text": [
      "JPEG\n",
      "(859, 1280)\n",
      "RGB\n"
     ]
    }
   ],
   "source": [
    "im = Image.open(\"pas_foto.jpg\")\n",
    "print(im.format)\n",
    "print(im.size)\n",
    "print(im.mode)"
   ]
  },
  {
   "cell_type": "code",
   "execution_count": 88,
   "metadata": {},
   "outputs": [
    {
     "name": "stdout",
     "output_type": "stream",
     "text": [
      "<class 'numpy.ndarray'>\n",
      "(1280, 859, 3)\n"
     ]
    }
   ],
   "source": [
    "arr = np.array(im.copy())\n",
    "print(type(arr))\n",
    "print(arr.shape)"
   ]
  },
  {
   "cell_type": "code",
   "execution_count": 89,
   "metadata": {},
   "outputs": [],
   "source": [
    "arrMinus40 = arr.copy()\n",
    "arrMinus20 = arr.copy()\n",
    "arrPlus20 = arr.copy()\n",
    "arrPlus40 = arr.copy()"
   ]
  },
  {
   "cell_type": "code",
   "execution_count": 90,
   "metadata": {},
   "outputs": [],
   "source": [
    "\n",
    "for y in range(arr.shape[0]):\n",
    "    for x in range(arr.shape[1]):\n",
    "        for c in range(3):\n",
    "            arrMinus40[y,x,c] = int(arrMinus40[y,x,c] * 0.4)\n",
    "            arrMinus20[y,x,c] = int(arrMinus20[y,x,c] * 0.2)\n",
    "            arrPlus20[y,x,c] = int(arrPlus20[y,x,c] * 0.6)\n",
    "            arrPlus40[y,x,c] = int(arrPlus40[y,x,c] * 0.8)"
   ]
  },
  {
   "cell_type": "code",
   "execution_count": 93,
   "metadata": {},
   "outputs": [],
   "source": [
    "Image.fromarray(np.hstack((arrMinus40, arrMinus20, arr, arrPlus20, arrPlus40))).show()"
   ]
  }
 ],
 "metadata": {
  "interpreter": {
   "hash": "9b02d228b0deb9bd5deb88192194232067fb7f0761ef8eded4fa6ac3b1d9be68"
  },
  "kernelspec": {
   "display_name": "Python 3.9.7 ('base')",
   "language": "python",
   "name": "python3"
  },
  "language_info": {
   "codemirror_mode": {
    "name": "ipython",
    "version": 3
   },
   "file_extension": ".py",
   "mimetype": "text/x-python",
   "name": "python",
   "nbconvert_exporter": "python",
   "pygments_lexer": "ipython3",
   "version": "3.9.7"
  },
  "orig_nbformat": 4
 },
 "nbformat": 4,
 "nbformat_minor": 2
}
