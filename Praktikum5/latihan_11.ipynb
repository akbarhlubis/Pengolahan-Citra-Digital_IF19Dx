{
 "cells": [
  {
   "cell_type": "code",
   "execution_count": 26,
   "metadata": {},
   "outputs": [],
   "source": [
    "from PIL import Image\n",
    "import numpy as np\n",
    "import matplotlib.pyplot as plt"
   ]
  },
  {
   "cell_type": "code",
   "execution_count": 27,
   "metadata": {},
   "outputs": [],
   "source": [
    "im1 = Image.open(\"Original.jpg\").resize((255,255))\n",
    "im2 = Image.open(\"alam2.jpg\").resize((255,255))\n",
    "arr1 = np.array(im1.copy())\n",
    "arr2 = np.array(im2.copy())\n",
    "arr3 = np.array(im2.copy())"
   ]
  },
  {
   "cell_type": "code",
   "execution_count": 28,
   "metadata": {},
   "outputs": [],
   "source": [
    "keys = np.arange(256)\n",
    "hist1R = np.zeros((256),dtype= np.uint32)\n",
    "hist1G = np.zeros((256),dtype= np.uint32)\n",
    "hist1B = np.zeros((256),dtype= np.uint32)"
   ]
  },
  {
   "cell_type": "code",
   "execution_count": 29,
   "metadata": {},
   "outputs": [],
   "source": [
    "hist2R = np.zeros((256),dtype= np.uint32)\n",
    "hist2G = np.zeros((256),dtype= np.uint32)\n",
    "hist2B = np.zeros((256),dtype= np.uint32)"
   ]
  },
  {
   "cell_type": "code",
   "execution_count": 30,
   "metadata": {},
   "outputs": [],
   "source": [
    "hist3R = np.zeros((256),dtype= np.uint32)\n",
    "hist3G = np.zeros((256),dtype= np.uint32)\n",
    "hist3B = np.zeros((256),dtype= np.uint32)"
   ]
  },
  {
   "cell_type": "code",
   "execution_count": 31,
   "metadata": {},
   "outputs": [],
   "source": [
    "for y in range(arr1.shape[0]):\n",
    "    for x in range(arr1.shape[1]):\n",
    "        hist1R[arr1[y,x,0]] = hist1R[arr1[y,x,0]]+1;\n",
    "        hist1G[arr1[y,x,1]] = hist1R[arr1[y,x,1]]+1;\n",
    "        hist1B[arr1[y,x,2]] = hist1R[arr1[y,x,2]]+1;\n",
    "        \n",
    "        hist2R[arr2[y,x,0]] = hist2R[arr2[y,x,0]]+1;\n",
    "        hist2G[arr2[y,x,1]] = hist2G[arr2[y,x,1]]+1;\n",
    "        hist2B[arr2[y,x,2]] = hist2B[arr2[y,x,2]]+1;"
   ]
  },
  {
   "cell_type": "code",
   "execution_count": 32,
   "metadata": {},
   "outputs": [],
   "source": [
    "cdf1R = hist1R.cumsum()\n",
    "cdf1R_norm = cdf1R * float(hist1R.max()) / cdf1R.max()"
   ]
  },
  {
   "cell_type": "code",
   "execution_count": 33,
   "metadata": {},
   "outputs": [],
   "source": [
    "cdf1G = hist1G.cumsum()\n",
    "cdf1G_norm = cdf1G * float(hist1G.max()) / cdf1G.max()"
   ]
  },
  {
   "cell_type": "code",
   "execution_count": 34,
   "metadata": {},
   "outputs": [],
   "source": [
    "cdf1B = hist1B.cumsum()\n",
    "cdf1B_norm = cdf1B * float(hist1B.max()) / cdf1B.max()"
   ]
  },
  {
   "cell_type": "code",
   "execution_count": 35,
   "metadata": {},
   "outputs": [],
   "source": [
    "cdf2R = hist2R.cumsum()\n",
    "cdf2R_norm = cdf2R * float(hist2R.max()) / cdf2R.max()"
   ]
  },
  {
   "cell_type": "code",
   "execution_count": 36,
   "metadata": {},
   "outputs": [],
   "source": [
    "cdf2G = hist2G.cumsum()\n",
    "cdf2G_norm = cdf2G * float(hist2G.max()) / cdf2G.max()"
   ]
  },
  {
   "cell_type": "code",
   "execution_count": 37,
   "metadata": {},
   "outputs": [],
   "source": [
    "cdf2B = hist2B.cumsum()\n",
    "cdf2B_norm = cdf2B * float(hist2B.max()) / cdf2B.max()"
   ]
  },
  {
   "cell_type": "code",
   "execution_count": 38,
   "metadata": {},
   "outputs": [],
   "source": [
    "lutR = np.zeros((256),dtype=np.uint32)\n",
    "lutG = np.zeros((256),dtype=np.uint32)\n",
    "lutB = np.zeros((256),dtype=np.uint32)"
   ]
  },
  {
   "cell_type": "code",
   "execution_count": 39,
   "metadata": {},
   "outputs": [],
   "source": [
    "gjR = 0\n",
    "gjG = 0\n",
    "gjB = 0"
   ]
  },
  {
   "cell_type": "code",
   "execution_count": 40,
   "metadata": {},
   "outputs": [],
   "source": [
    "for giR in range(255):\n",
    "    while(gjR<255 and cdf2R[gjR+1] < cdf1R[giR+1]):\n",
    "        gjR = gjR+1\n",
    "        lutR[giR+1] = gjR"
   ]
  },
  {
   "cell_type": "code",
   "execution_count": 41,
   "metadata": {},
   "outputs": [],
   "source": [
    "for giG in range(255):\n",
    "    while(gjG<255 and cdf2G[gjG+1] < cdf1G[giG+1]):\n",
    "        gjG = gjG+1\n",
    "    lutG[giG+1] = gjG"
   ]
  },
  {
   "cell_type": "code",
   "execution_count": 42,
   "metadata": {},
   "outputs": [],
   "source": [
    "for giB in range(255):\n",
    "    while(gjB<255 and cdf2B[gjB+1] < cdf1B[giB+1]):\n",
    "        gjB = gjB+1\n",
    "    lutB[giB+1] = gjB"
   ]
  },
  {
   "cell_type": "code",
   "execution_count": 43,
   "metadata": {},
   "outputs": [],
   "source": [
    "for y in range(arr1.shape[0]):\n",
    "    for x in range(arr1.shape[1]):\n",
    "        tmpR = lutR[arr1[y,x,0]]\n",
    "        tmpG = lutG[arr1[y,x,0]]\n",
    "        tmpB = lutB[arr1[y,x,0]]\n",
    "        arr3[y,x] = [tmpR,tmpG,tmpB]\n",
    "        hist3R[tmpR] = hist3R[tmpR]+1\n",
    "        hist3G[tmpG] = hist3G[tmpG]+1\n",
    "        hist3B[tmpB] = hist3B[tmpB]+1"
   ]
  },
  {
   "cell_type": "code",
   "execution_count": 44,
   "metadata": {},
   "outputs": [],
   "source": [
    "cdf3R = hist3R.cumsum()\n",
    "cdf3R_norm = cdf3R * float(hist3R.max()) / cdf3R.max()"
   ]
  },
  {
   "cell_type": "code",
   "execution_count": 45,
   "metadata": {},
   "outputs": [],
   "source": [
    "cdf3G = hist3G.cumsum()\n",
    "cdf3G_norm = cdf3G * float(hist3G.max()) / cdf3G.max()"
   ]
  },
  {
   "cell_type": "code",
   "execution_count": 46,
   "metadata": {},
   "outputs": [],
   "source": [
    "cdf3B = hist3B.cumsum()\n",
    "cdf3B_norm = cdf3B * float(hist3B.max()) / cdf3B.max()"
   ]
  },
  {
   "cell_type": "code",
   "execution_count": 47,
   "metadata": {},
   "outputs": [
    {
     "data": {
      "image/png": "[encoded data removed]",
      "text/plain": [
       "<Figure size 432x288 with 1 Axes>"
      ]
     },
     "metadata": {
      "needs_background": "light"
     },
     "output_type": "display_data"
    }
   ],
   "source": [
    "fig = plt.figure(1)\n",
    "plt.bar(keys,hist1R)\n",
    "plt.bar(keys,hist1G)\n",
    "plt.bar(keys,hist1B)\n",
    "plt.plot(cdf1R_norm, color = 'r')\n",
    "plt.plot(cdf1G_norm, color = 'g')\n",
    "plt.plot(cdf1B_norm, color = 'b')\n",
    "fig.canvas.draw()\n",
    "data1 = np.frombuffer(fig.canvas.tostring_rgb(), dtype=np.uint8)\n",
    "data1 = data1.reshape(fig.canvas.get_width_height()[::-1]+(3,))\n",
    "histImage1 = Image.fromarray(data1).resize((255,255))\n",
    "histNp1 = np.array(histImage1)"
   ]
  },
  {
   "cell_type": "code",
   "execution_count": 48,
   "metadata": {},
   "outputs": [
    {
     "data": {
      "image/png": "[encoded data removed]",
      "text/plain": [
       "<Figure size 432x288 with 1 Axes>"
      ]
     },
     "metadata": {
      "needs_background": "light"
     },
     "output_type": "display_data"
    }
   ],
   "source": [
    "fig = plt.figure(2)\n",
    "plt.bar(keys,hist2R)\n",
    "plt.bar(keys,hist2G)\n",
    "plt.bar(keys,hist2B)\n",
    "plt.plot(cdf2R_norm, color = 'r')\n",
    "plt.plot(cdf2G_norm, color = 'g')\n",
    "plt.plot(cdf2B_norm, color = 'b')\n",
    "fig.canvas.draw()\n",
    "data2 = np.frombuffer(fig.canvas.tostring_rgb(), dtype=np.uint8)\n",
    "data2 = data2.reshape(fig.canvas.get_width_height()[::-1]+(3,))\n",
    "histImage2 = Image.fromarray(data2).resize((255,255))\n",
    "histNp2 = np.array(histImage2)"
   ]
  },
  {
   "cell_type": "code",
   "execution_count": 49,
   "metadata": {},
   "outputs": [
    {
     "data": {
      "image/png": "[encoded data removed]",
      "text/plain": [
       "<Figure size 432x288 with 1 Axes>"
      ]
     },
     "metadata": {
      "needs_background": "light"
     },
     "output_type": "display_data"
    }
   ],
   "source": [
    "fig = plt.figure(3)\n",
    "plt.bar(keys,hist3R)\n",
    "plt.bar(keys,hist3G)\n",
    "plt.bar(keys,hist3B)\n",
    "plt.plot(cdf3R_norm, color = 'r')\n",
    "plt.plot(cdf3G_norm, color = 'g')\n",
    "plt.plot(cdf3B_norm, color = 'b')\n",
    "fig.canvas.draw()\n",
    "data3 = np.frombuffer(fig.canvas.tostring_rgb(), dtype=np.uint8)\n",
    "data3 = data3.reshape(fig.canvas.get_width_height()[::-1]+(3,))\n",
    "histImage3 = Image.fromarray(data3).resize((255,255))\n",
    "histNp3 = np.array(histImage3)"
   ]
  },
  {
   "cell_type": "code",
   "execution_count": 53,
   "metadata": {},
   "outputs": [],
   "source": [
    "Image.fromarray(np.hstack((np.vstack((histNp1,arr1)),np.vstack((histNp2,arr2)),np.vstack((histNp3,arr3))))).show()"
   ]
  }
 ],
 "metadata": {
  "interpreter": {
   "hash": "23300995598eec4bcf6bd89cf02d1c3675e8b2616661418dbbf5580aa901878d"
  },
  "kernelspec": {
   "display_name": "Python 3.9.0 64-bit",
   "language": "python",
   "name": "python3"
  },
  "language_info": {
   "codemirror_mode": {
    "name": "ipython",
    "version": 3
   },
   "file_extension": ".py",
   "mimetype": "text/x-python",
   "name": "python",
   "nbconvert_exporter": "python",
   "pygments_lexer": "ipython3",
   "version": "3.9.0"
  },
  "orig_nbformat": 4
 },
 "nbformat": 4,
 "nbformat_minor": 2
}
