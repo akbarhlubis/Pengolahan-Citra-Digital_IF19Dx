{
 "cells": [
  {
   "cell_type": "code",
   "execution_count": 36,
   "metadata": {},
   "outputs": [],
   "source": [
    "from PIL import Image\n",
    "import numpy as np\n",
    "import matplotlib.pyplot as plt"
   ]
  },
  {
   "cell_type": "code",
   "execution_count": 37,
   "metadata": {},
   "outputs": [],
   "source": [
    "im = Image.open(\"asset_praktikum_akbar.jpg\").resize((255,255))\n",
    "arr = np.array(im.copy())\n",
    "arrEq = np.zeros(arr.shape, dtype=np.uint8)"
   ]
  },
  {
   "cell_type": "code",
   "execution_count": 38,
   "metadata": {},
   "outputs": [],
   "source": [
    "keys = np.arange(256)\n",
    "histOri = np.zeros((256), dtype=np.uint32)\n",
    "histEq = np.zeros((256), dtype=np.uint32)"
   ]
  },
  {
   "cell_type": "code",
   "execution_count": 39,
   "metadata": {},
   "outputs": [],
   "source": [
    "minI = 30\n",
    "maxI = 240\n",
    "minO = 0\n",
    "maxO = 255\n",
    "for y in range(arr.shape[0]):\n",
    "    for x in range(arr.shape[1]):\n",
    "        akum = (int(arr[y,x,0]) + int(arr[y,x,1]) + int(arr[y,x,2]))\n",
    "        tmp = max(min(int(akum/3),255),0)\n",
    "        arr[y,x] = [tmp,tmp,tmp]\n",
    "        histOri[tmp] = histOri[tmp] + 1;\n",
    "        tmpEq = np.floor((tmp-minI)*(((maxO-minO)/(maxI-minI))+minO)).astype(np.uint8)\n",
    "        tmp = max(min(tmpEq,255),0)\n",
    "        arrEq[y,x] = [tmpEq,tmpEq,tmpEq]\n",
    "        histEq[tmpEq] = histEq[tmpEq]+1;"
   ]
  },
  {
   "cell_type": "code",
   "execution_count": 40,
   "metadata": {},
   "outputs": [
    {
     "data": {
      "image/png": "[encoded data removed]",
      "text/plain": [
       "<Figure size 432x288 with 1 Axes>"
      ]
     },
     "metadata": {
      "needs_background": "light"
     },
     "output_type": "display_data"
    }
   ],
   "source": [
    "fig = plt.figure(1)\n",
    "plt.bar(keys,histOri)\n",
    "fig.canvas.draw()\n",
    "dataOri = np.frombuffer(fig.canvas.tostring_rgb(), dtype=np.uint8)\n",
    "dataOri = dataOri.reshape(fig.canvas.get_width_height()[::-1]+(3,))\n",
    "histImageOri = Image.fromarray(dataOri).resize((255,255))\n",
    "histNpOri = np.array(histImageOri)"
   ]
  },
  {
   "cell_type": "code",
   "execution_count": 41,
   "metadata": {},
   "outputs": [
    {
     "data": {
      "image/png": "[encoded data removed]",
      "text/plain": [
       "<Figure size 432x288 with 1 Axes>"
      ]
     },
     "metadata": {
      "needs_background": "light"
     },
     "output_type": "display_data"
    }
   ],
   "source": [
    "fig = plt.figure(2)\n",
    "plt.bar(keys,histEq)\n",
    "fig.canvas.draw()\n",
    "dataEq = np.frombuffer(fig.canvas.tostring_rgb(), dtype=np.uint8)\n",
    "dataEq = dataEq.reshape(fig.canvas.get_width_height()[::-1]+(3,))\n",
    "histImageEq = Image.fromarray(dataEq).resize((255,255))\n",
    "histNpEq = np.array(histImageEq)"
   ]
  },
  {
   "cell_type": "code",
   "execution_count": 44,
   "metadata": {},
   "outputs": [],
   "source": [
    "Image.fromarray(np.hstack((np.vstack((histNpOri,arr)),np.vstack((histNpEq,arrEq))))).show()"
   ]
  }
 ],
 "metadata": {
  "interpreter": {
   "hash": "23300995598eec4bcf6bd89cf02d1c3675e8b2616661418dbbf5580aa901878d"
  },
  "kernelspec": {
   "display_name": "Python 3.9.0 64-bit",
   "language": "python",
   "name": "python3"
  },
  "language_info": {
   "name": "python",
   "version": "3.9.0"
  },
  "orig_nbformat": 4
 },
 "nbformat": 4,
 "nbformat_minor": 2
}
