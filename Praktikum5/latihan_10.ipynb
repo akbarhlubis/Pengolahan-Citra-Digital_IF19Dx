{
 "cells": [
  {
   "cell_type": "code",
   "execution_count": 19,
   "metadata": {},
   "outputs": [],
   "source": [
    "from PIL import Image\n",
    "import numpy as np\n",
    "import matplotlib.pyplot as plt"
   ]
  },
  {
   "cell_type": "code",
   "execution_count": 20,
   "metadata": {},
   "outputs": [],
   "source": [
    "im = Image.open(\"asset_praktikum_akbar.jpg\").resize((255,255))\n",
    "im2 = Image.open(\"asset_praktikum_akbar.jpg\").resize((255,255))\n",
    "arr = np.array(im.copy())\n",
    "arrEq = np.zeros(arr.shape, dtype= np.uint8)"
   ]
  },
  {
   "cell_type": "code",
   "execution_count": 21,
   "metadata": {},
   "outputs": [],
   "source": [
    "keys = np.arange(256)\n",
    "histOri = np.zeros((256), dtype=np.uint32)\n",
    "histEq = np.zeros((256), dtype=np.uint32)"
   ]
  },
  {
   "cell_type": "code",
   "execution_count": 22,
   "metadata": {},
   "outputs": [],
   "source": [
    "for y in range(arr.shape[0]):\n",
    "    for x in range(arr.shape[1]):\n",
    "        akum = (int(arr[y,x,0])+int(arr[y,x,1])+int(arr[y,x,2]))\n",
    "        tmp = max(min(int(akum/3),255),0)\n",
    "        arr[y,x] =[tmp,tmp,tmp]\n",
    "        histOri[tmp] = histOri[tmp]+1;"
   ]
  },
  {
   "cell_type": "code",
   "execution_count": 23,
   "metadata": {},
   "outputs": [],
   "source": [
    "cdf = histOri.cumsum()\n",
    "cdf_normalized = cdf * float(histOri.max()) / cdf.max()\n",
    "transform_map = np.floor((255 * cdf)/(arr.shape[0]*arr.shape[1])).astype(np.uint8)"
   ]
  },
  {
   "cell_type": "code",
   "execution_count": 24,
   "metadata": {},
   "outputs": [],
   "source": [
    "for y in range (arr.shape[0]):\n",
    "    for x in range (arr.shape[1]):\n",
    "        tmpR = transform_map[arr[y,x,0]]\n",
    "        tmpG = transform_map[arr[y,x,1]]\n",
    "        tmpB = transform_map[arr[y,x,2]]\n",
    "        arrEq[y,x] = [tmpR,tmpG,tmpB]\n",
    "        tmp = np.floor((arrEq[y,x].sum()/3)).astype(np.uint8)\n",
    "        histEq[tmp] = histEq[tmp]+1"
   ]
  },
  {
   "cell_type": "code",
   "execution_count": 25,
   "metadata": {},
   "outputs": [],
   "source": [
    "cdfeq = histEq.cumsum()\n",
    "cdfeq_normalized = cdfeq * float(histEq.max())/cdfeq.max()"
   ]
  },
  {
   "cell_type": "code",
   "execution_count": 26,
   "metadata": {},
   "outputs": [
    {
     "data": {
      "image/png": "[encoded data removed]",
      "text/plain": [
       "<Figure size 432x288 with 1 Axes>"
      ]
     },
     "metadata": {
      "needs_background": "light"
     },
     "output_type": "display_data"
    }
   ],
   "source": [
    "fig = plt.figure(1)\n",
    "plt.bar(keys,histOri)\n",
    "plt.plot(cdf_normalized, color = 'b')\n",
    "fig.canvas.draw()\n",
    "dataOri = np.frombuffer(fig.canvas.tostring_rgb(), dtype=np.uint8)\n",
    "dataOri = dataOri.reshape(fig.canvas.get_width_height()[::-1]+(3,))\n",
    "histImageOri = Image.fromarray(dataOri).resize((255,255))\n",
    "histNpOri = np.array(histImageOri)"
   ]
  },
  {
   "cell_type": "code",
   "execution_count": 27,
   "metadata": {},
   "outputs": [
    {
     "data": {
      "image/png": "[encoded data removed]",
      "text/plain": [
       "<Figure size 432x288 with 1 Axes>"
      ]
     },
     "metadata": {
      "needs_background": "light"
     },
     "output_type": "display_data"
    }
   ],
   "source": [
    "fig = plt.figure(2)\n",
    "plt.bar(keys,histEq)\n",
    "plt.plot(cdfeq_normalized, color = 'b')\n",
    "fig.canvas.draw()\n",
    "dataEq = np.frombuffer(fig.canvas.tostring_rgb(), dtype=np.uint8)\n",
    "dataEq = dataEq.reshape(fig.canvas.get_width_height()[::-1]+(3,))\n",
    "histImageEq = Image.fromarray(dataEq).resize((255,255))\n",
    "histNpEq = np.array(histImageEq)"
   ]
  },
  {
   "cell_type": "code",
   "execution_count": 30,
   "metadata": {},
   "outputs": [],
   "source": [
    "Image.fromarray(np.hstack((np.vstack((histNpOri,arr)),np.vstack((histNpEq,arrEq))))).show()"
   ]
  }
 ],
 "metadata": {
  "interpreter": {
   "hash": "23300995598eec4bcf6bd89cf02d1c3675e8b2616661418dbbf5580aa901878d"
  },
  "kernelspec": {
   "display_name": "Python 3.9.0 64-bit",
   "language": "python",
   "name": "python3"
  },
  "language_info": {
   "codemirror_mode": {
    "name": "ipython",
    "version": 3
   },
   "file_extension": ".py",
   "mimetype": "text/x-python",
   "name": "python",
   "nbconvert_exporter": "python",
   "pygments_lexer": "ipython3",
   "version": "3.9.0"
  },
  "orig_nbformat": 4
 },
 "nbformat": 4,
 "nbformat_minor": 2
}
