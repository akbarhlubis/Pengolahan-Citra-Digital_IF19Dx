{
  "cells": [
    {
      "cell_type": "markdown",
      "id": "hQ1fSd7erNXQ",
      "metadata": {
        "id": "hQ1fSd7erNXQ"
      },
      "source": [
        "# Latihan 12\n",
        "Akbar Hamonangan Lubis | 19312116 | IF19Dx"
      ]
    },
    {
      "cell_type": "code",
      "execution_count": 26,
      "id": "47a0b616",
      "metadata": {
        "id": "47a0b616"
      },
      "outputs": [],
      "source": [
        "# Mengimport library\n",
        "from PIL import Image\n",
        "import numpy as np\n",
        "import matplotlib.pyplot as plt"
      ]
    },
    {
      "cell_type": "code",
      "execution_count": 27,
      "id": "4b8e4fec",
      "metadata": {
        "id": "4b8e4fec"
      },
      "outputs": [],
      "source": [
        "im1 = Image.open(\"asset_praktikum_akbar.jpg\").resize((255,255)).convert(\"L\")\n",
        "arr1 = np.array(im1.copy())\n",
        "arr2 = np.zeros(arr1.shape, dtype= np.uint8)\n",
        "arr3 = np.zeros(arr1.shape, dtype= np.uint8)\n",
        "arr4 = np.zeros(arr1.shape, dtype= np.uint8)"
      ]
    },
    {
      "cell_type": "code",
      "execution_count": 28,
      "id": "3839463f",
      "metadata": {
        "id": "3839463f"
      },
      "outputs": [],
      "source": [
        "kernel1 = np.array([[1,0,-1],[2,0,-2],[1,0,-1]], np.single) \n",
        "kernel2 = np.array([[1,2,1],[0,0,0],[-1,-2,-1]], np.single)\n",
        "hs = np.floor(kernel1.shape[0]/2).astype(np.uint32)"
      ]
    },
    {
      "cell_type": "code",
      "execution_count": 29,
      "id": "5d506333",
      "metadata": {
        "id": "5d506333"
      },
      "outputs": [],
      "source": [
        "for y in range(arr1.shape[0]):\n",
        "    for x in range(arr1.shape[1]):\n",
        "        tmpK1 = 0;\n",
        "        tmpK2 = 0;\n",
        "        for ky in range(kernel1.shape[0]):\n",
        "            for kx in range(kernel2.shape[0]):\n",
        "                py = min(max(y+ky-hs,0),arr1.shape[0]-1)\n",
        "                px = min(max(x+kx-hs,0),arr1.shape[1]-1)\n",
        "                tmpK1 = tmpK1 + arr1[py,px]*kernel1[ky,kx]\n",
        "                tmpK2 = tmpK2 + arr1[py,px]*kernel2[ky,kx]\n",
        "                \n",
        "        tmpK1 = 255-tmpK1\n",
        "        tmpK2 = 255-tmpK2\n",
        "        arr2[y,x] = np.floor(min(max(tmpK1,0),255)).astype(np.uint8)\n",
        "        arr3[y,x] = np.floor(min(max(tmpK2,0),255)).astype(np.uint8)\n",
        "        arr4[y,x] = np.floor(min(max((tmpK1+tmpK2)/2,0),255)).astype(np.uint8)"
      ]
    },
    {
      "cell_type": "code",
      "execution_count": 31,
      "id": "c8abd752",
      "metadata": {
        "colab": {
          "base_uri": "https://localhost:8080/",
          "height": 272
        },
        "id": "c8abd752",
        "outputId": "3d4c88db-4da4-4d8c-d08d-1fd3eb3d1fff"
      },
      "outputs": [],
      "source": [
        "Image.fromarray(np.hstack((arr1,arr2,arr3,arr4))).show()"
      ]
    }
  ],
  "metadata": {
    "colab": {
      "name": "Latihan 13.ipynb",
      "provenance": []
    },
    "kernelspec": {
      "display_name": "Python 3 (ipykernel)",
      "language": "python",
      "name": "python3"
    },
    "language_info": {
      "codemirror_mode": {
        "name": "ipython",
        "version": 3
      },
      "file_extension": ".py",
      "mimetype": "text/x-python",
      "name": "python",
      "nbconvert_exporter": "python",
      "pygments_lexer": "ipython3",
      "version": "3.9.0"
    }
  },
  "nbformat": 4,
  "nbformat_minor": 5
}
