{
 "cells": [
  {
   "cell_type": "code",
   "execution_count": 22,
   "metadata": {},
   "outputs": [],
   "source": [
    "from PIL import Image\n",
    "import numpy as np\n",
    "import matplotlib.pyplot as plt"
   ]
  },
  {
   "cell_type": "code",
   "execution_count": 23,
   "metadata": {},
   "outputs": [
    {
     "name": "stdout",
     "output_type": "stream",
     "text": [
      "None\n",
      "(255, 255)\n",
      "RGB\n"
     ]
    }
   ],
   "source": [
    "im = Image.open('pas_foto.jpg').resize((255, 255))\n",
    "print(im.format)\n",
    "print(im.size)\n",
    "print(im.mode)"
   ]
  },
  {
   "cell_type": "code",
   "execution_count": 24,
   "metadata": {},
   "outputs": [
    {
     "name": "stdout",
     "output_type": "stream",
     "text": [
      "<class 'numpy.ndarray'>\n",
      "(255, 255, 3)\n"
     ]
    }
   ],
   "source": [
    "arr = np.array(im.copy())\n",
    "print(type(arr))\n",
    "print(arr.shape)"
   ]
  },
  {
   "cell_type": "code",
   "execution_count": 25,
   "metadata": {},
   "outputs": [],
   "source": [
    "arr80persen = arr.copy()\n",
    "arr90persen = arr.copy()\n",
    "arr110persen = arr.copy()\n",
    "arr120persen = arr.copy()\n",
    "keys = np.arange(256)\n",
    "histOri = np.zeros((256),dtype=np.uint32)\n",
    "hist80persen = np.zeros((256),dtype=np.uint32)\n",
    "hist90persen = np.zeros((256),dtype=np.uint32)\n",
    "hist110persen = np.zeros((256),dtype=np.uint32)\n",
    "hist120persen = np.zeros((256),dtype=np.uint32)"
   ]
  },
  {
   "cell_type": "code",
   "execution_count": 26,
   "metadata": {},
   "outputs": [],
   "source": [
    "for y in range(arr.shape[0]):\n",
    "    for x in range(arr.shape[1]):\n",
    "        akum = (int(arr[y,x,0])+int(arr[y,x,1])+int(arr[y,x,2]))\n",
    "        tmp = max(min(int(akum/3),255),0)\n",
    "        arr[y,x] = [tmp,tmp,tmp]\n",
    "        tmp90persen = max(int(tmp*0.9),0)\n",
    "        tmp80persen = max(int(tmp*0.8),0)\n",
    "        arr90persen[y,x]=[tmp90persen,tmp90persen,tmp90persen]\n",
    "        arr80persen[y,x]=[tmp80persen,tmp80persen,tmp80persen]\n",
    "        tmp110persen = min(int(tmp*1.1),255)\n",
    "        tmp120persen = min(int(tmp*1.2),255)\n",
    "        arr110persen[y,x]=[tmp110persen,tmp110persen,tmp110persen]\n",
    "        arr120persen[y,x]=[tmp120persen,tmp120persen,tmp120persen]\n",
    "        histOri[tmp] = histOri[tmp]+1\n",
    "        hist90persen[tmp90persen] = hist90persen[tmp90persen]+1\n",
    "        hist80persen[tmp80persen] = hist80persen[tmp80persen]+1\n",
    "        hist110persen[tmp110persen] = hist110persen[tmp110persen]+1\n",
    "        hist120persen[tmp120persen] = hist120persen[tmp120persen]+1"
   ]
  },
  {
   "cell_type": "code",
   "execution_count": 27,
   "metadata": {},
   "outputs": [
    {
     "data": {
      "image/png": "[encoded data removed]",
      "text/plain": [
       "<Figure size 432x288 with 1 Axes>"
      ]
     },
     "metadata": {
      "needs_background": "light"
     },
     "output_type": "display_data"
    }
   ],
   "source": [
    "fig = plt.figure(1)\n",
    "plt.bar(keys,histOri)\n",
    "fig.canvas.draw()\n",
    "dataOri = np.frombuffer(fig.canvas.tostring_rgb(), dtype=np.uint8)\n",
    "dataOri = dataOri.reshape(fig.canvas.get_width_height()[::-1] + (3,))\n",
    "histImageOri = Image.fromarray(dataOri).resize((255, 255))\n",
    "histNpOri = np.array(histImageOri)"
   ]
  },
  {
   "cell_type": "code",
   "execution_count": 28,
   "metadata": {},
   "outputs": [
    {
     "data": {
      "image/png": "[encoded data removed]",
      "text/plain": [
       "<Figure size 432x288 with 1 Axes>"
      ]
     },
     "metadata": {
      "needs_background": "light"
     },
     "output_type": "display_data"
    }
   ],
   "source": [
    "fig90persen = plt.figure(2)\n",
    "plt.bar(keys,hist90persen)\n",
    "fig90persen.canvas.draw()\n",
    "data90persen = np.frombuffer(fig90persen.canvas.tostring_rgb(), dtype=np.uint8)\n",
    "data90persen = data90persen.reshape(fig90persen.canvas.get_width_height()[::-1] + (3,))\n",
    "histImage90persen = Image.fromarray(data90persen).resize((255, 255))\n",
    "histNp90persen = np.array(histImage90persen)"
   ]
  },
  {
   "cell_type": "code",
   "execution_count": 29,
   "metadata": {},
   "outputs": [
    {
     "data": {
      "image/png": "[encoded data removed]",
      "text/plain": [
       "<Figure size 432x288 with 1 Axes>"
      ]
     },
     "metadata": {
      "needs_background": "light"
     },
     "output_type": "display_data"
    }
   ],
   "source": [
    "fig80persen = plt.figure(3)\n",
    "plt.bar(keys,hist80persen)\n",
    "fig80persen.canvas.draw()\n",
    "data80persen = np.frombuffer(fig80persen.canvas.tostring_rgb(), dtype=np.uint8)\n",
    "data80persen = data80persen.reshape(fig80persen.canvas.get_width_height()[::-1] + (3,))\n",
    "histImage80persen = Image.fromarray(data80persen).resize((255, 255))\n",
    "histNp80persen = np.array(histImage80persen)"
   ]
  },
  {
   "cell_type": "code",
   "execution_count": 30,
   "metadata": {},
   "outputs": [
    {
     "data": {
      "image/png": "[encoded data removed]",
      "text/plain": [
       "<Figure size 432x288 with 1 Axes>"
      ]
     },
     "metadata": {
      "needs_background": "light"
     },
     "output_type": "display_data"
    }
   ],
   "source": [
    "fig110persen = plt.figure(4)\n",
    "plt.bar(keys,hist110persen)\n",
    "fig110persen.canvas.draw()\n",
    "data110persen = np.frombuffer(fig110persen.canvas.tostring_rgb(), dtype=np.uint8)\n",
    "data110persen = data110persen.reshape(fig110persen.canvas.get_width_height()[::-1] + (3,))\n",
    "histImage110persen = Image.fromarray(data110persen).resize((255, 255))\n",
    "histNp110persen = np.array(histImage110persen)"
   ]
  },
  {
   "cell_type": "code",
   "execution_count": 31,
   "metadata": {},
   "outputs": [
    {
     "data": {
      "image/png": "[encoded data removed]",
      "text/plain": [
       "<Figure size 432x288 with 1 Axes>"
      ]
     },
     "metadata": {
      "needs_background": "light"
     },
     "output_type": "display_data"
    }
   ],
   "source": [
    "fig120persen = plt.figure(5)\n",
    "plt.bar(keys,hist120persen)\n",
    "fig120persen.canvas.draw()\n",
    "data120persen = np.frombuffer(fig120persen.canvas.tostring_rgb(), dtype=np.uint8)\n",
    "data120persen = data120persen.reshape(fig120persen.canvas.get_width_height()[::-1] + (3,))\n",
    "histImage120persen = Image.fromarray(data120persen).resize((255, 255))\n",
    "histNp120persen = np.array(histImage120persen)"
   ]
  },
  {
   "cell_type": "code",
   "execution_count": 32,
   "metadata": {},
   "outputs": [],
   "source": [
    "histStack = np.hstack((histNp80persen,histNp90persen,histNpOri,histNp110persen,histNp120persen))\n",
    "imageStack = np.hstack((arr80persen,arr90persen,arr,arr110persen,arr120persen))"
   ]
  },
  {
   "cell_type": "code",
   "execution_count": 34,
   "metadata": {},
   "outputs": [],
   "source": [
    "Image.fromarray(np.vstack((histStack,imageStack))).show()"
   ]
  }
 ],
 "metadata": {
  "interpreter": {
   "hash": "23300995598eec4bcf6bd89cf02d1c3675e8b2616661418dbbf5580aa901878d"
  },
  "kernelspec": {
   "display_name": "Python 3.9.0 64-bit",
   "language": "python",
   "name": "python3"
  },
  "language_info": {
   "codemirror_mode": {
    "name": "ipython",
    "version": 3
   },
   "file_extension": ".py",
   "mimetype": "text/x-python",
   "name": "python",
   "nbconvert_exporter": "python",
   "pygments_lexer": "ipython3",
   "version": "3.9.0"
  },
  "orig_nbformat": 4
 },
 "nbformat": 4,
 "nbformat_minor": 2
}
