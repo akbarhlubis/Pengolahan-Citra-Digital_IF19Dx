{
 "cells": [
  {
   "cell_type": "code",
   "execution_count": 10,
   "metadata": {},
   "outputs": [],
   "source": [
    "from PIL import Image\n",
    "import numpy as np\n",
    "import matplotlib.pyplot as plt"
   ]
  },
  {
   "cell_type": "code",
   "execution_count": 11,
   "metadata": {},
   "outputs": [],
   "source": [
    "im = Image.open('pas_foto.jpg').resize((255, 255))\n",
    "arr = np.array(im.copy())"
   ]
  },
  {
   "cell_type": "code",
   "execution_count": 12,
   "metadata": {},
   "outputs": [],
   "source": [
    "arrMinus40 = arr.copy()\n",
    "arrMinus20 = arr.copy()\n",
    "arrPlus20 = arr.copy()\n",
    "arrPlus40 = arr.copy()\n",
    "keys = np.arange(256)\n",
    "histOri = np.zeros((256), dtype = np.uint32)\n",
    "histMinus40 = np.zeros((256), dtype = np.uint32)\n",
    "histMinus20 = np.zeros((256), dtype = np.uint32)\n",
    "histPlus20 = np.zeros((256), dtype = np.uint32)\n",
    "histPlus40 = np.zeros((256), dtype = np.uint32)"
   ]
  },
  {
   "cell_type": "code",
   "execution_count": 13,
   "metadata": {},
   "outputs": [],
   "source": [
    "for y in range(arr.shape[0]):\n",
    "    for x in range(arr.shape[1]):\n",
    "        akum = (int(arr[y,x,0]) + int(arr[y,x,1]) + int(arr[y,x,2]))\n",
    "        tmp=max(min(int(akum/3),255),0)\n",
    "        arr[y,x] = [tmp,tmp,tmp]\n",
    "        tmpMin20 = max(tmp-20,0)\n",
    "        tmpMin40 = max(tmp-40,0)\n",
    "        arrMinus20[y,x] = [tmpMin20,tmpMin20,tmpMin20]\n",
    "        arrMinus40[y,x] = [tmpMin40,tmpMin40,tmpMin40]\n",
    "        tmpPlus20 = min(tmp+20,255)\n",
    "        tmpPlus40 = min(tmp+40,255)\n",
    "        arrPlus20[y,x]=[tmpPlus20,tmpPlus20,tmpPlus20]\n",
    "        arrPlus40[y,x]=[tmpPlus40,tmpPlus40,tmpPlus40]\n",
    "        histOri[tmp] = histOri[tmp] + 1\n",
    "        histMinus20[tmpMin20] = histMinus20[tmpMin20] + 1\n",
    "        histMinus40[tmpMin40] = histMinus40[tmpMin40] + 1\n",
    "        histPlus20[tmpPlus20] = histPlus20[tmpPlus20] + 1\n",
    "        histPlus40[tmpPlus40] = histPlus40[tmpPlus40] + 1"
   ]
  },
  {
   "cell_type": "code",
   "execution_count": 14,
   "metadata": {},
   "outputs": [
    {
     "data": {
      "image/png": "[encoded data removed]",
      "text/plain": [
       "<Figure size 432x288 with 1 Axes>"
      ]
     },
     "metadata": {
      "needs_background": "light"
     },
     "output_type": "display_data"
    }
   ],
   "source": [
    "fig = plt.figure(1)\n",
    "plt.bar(keys, histOri)\n",
    "fig.canvas.draw()\n",
    "DataOri = np.frombuffer(fig.canvas.tostring_rgb(), dtype=np.uint8)\n",
    "DataOri = DataOri.reshape(fig.canvas.get_width_height()[::-1] + (3,))\n",
    "histImageOri = Image.fromarray(DataOri).resize((255, 255))\n",
    "histNpOri = np.array(histImageOri)"
   ]
  },
  {
   "cell_type": "code",
   "execution_count": 15,
   "metadata": {},
   "outputs": [
    {
     "data": {
      "image/png": "[encoded data removed]",
      "text/plain": [
       "<Figure size 432x288 with 1 Axes>"
      ]
     },
     "metadata": {
      "needs_background": "light"
     },
     "output_type": "display_data"
    }
   ],
   "source": [
    "figMinus20 = plt.figure(2)\n",
    "plt.bar(keys,histMinus20)\n",
    "figMinus20.canvas.draw()\n",
    "DataMinus20 = np.frombuffer(figMinus20.canvas.tostring_rgb(), dtype=np.uint8)\n",
    "DataMinus20 = DataMinus20.reshape(figMinus20.canvas.get_width_height()[::-1] + (3,))\n",
    "histImageMinus20 = Image.fromarray(DataMinus20).resize((255, 255))\n",
    "histNpMinus20 = np.array(histImageMinus20)"
   ]
  },
  {
   "cell_type": "code",
   "execution_count": 16,
   "metadata": {},
   "outputs": [
    {
     "data": {
      "image/png": "[encoded data removed]",
      "text/plain": [
       "<Figure size 432x288 with 1 Axes>"
      ]
     },
     "metadata": {
      "needs_background": "light"
     },
     "output_type": "display_data"
    }
   ],
   "source": [
    "figMinus40 = plt.figure(3)\n",
    "plt.bar(keys,histMinus40)\n",
    "figMinus40.canvas.draw()\n",
    "DataMinus40 = np.frombuffer(figMinus40.canvas.tostring_rgb(), dtype=np.uint8)\n",
    "DataMinus40 = DataMinus40.reshape(figMinus40.canvas.get_width_height()[::-1] + (3,))\n",
    "histImageMinus40 = Image.fromarray(DataMinus40).resize((255, 255))\n",
    "histNpMinus40 = np.array(histImageMinus40)"
   ]
  },
  {
   "cell_type": "code",
   "execution_count": 17,
   "metadata": {},
   "outputs": [
    {
     "data": {
      "image/png": "[encoded data removed]",
      "text/plain": [
       "<Figure size 432x288 with 1 Axes>"
      ]
     },
     "metadata": {
      "needs_background": "light"
     },
     "output_type": "display_data"
    }
   ],
   "source": [
    "figPlus20 = plt.figure(4)\n",
    "plt.bar(keys,histPlus20)\n",
    "figPlus20.canvas.draw()\n",
    "DataPlus20 = np.frombuffer(figPlus20.canvas.tostring_rgb(), dtype=np.uint8)\n",
    "DataPlus20 = DataPlus20.reshape(figPlus20.canvas.get_width_height()[::-1] + (3,))\n",
    "histImagePlus20 = Image.fromarray(DataPlus20).resize((255, 255))\n",
    "histNpPlus20 = np.array(histImagePlus20)"
   ]
  },
  {
   "cell_type": "code",
   "execution_count": 18,
   "metadata": {},
   "outputs": [
    {
     "data": {
      "image/png": "[encoded data removed]",
      "text/plain": [
       "<Figure size 432x288 with 1 Axes>"
      ]
     },
     "metadata": {
      "needs_background": "light"
     },
     "output_type": "display_data"
    }
   ],
   "source": [
    "figPlus40 = plt.figure(5)\n",
    "plt.bar(keys,histPlus40)\n",
    "figPlus40.canvas.draw()\n",
    "DataPlus40 = np.frombuffer(figPlus40.canvas.tostring_rgb(), dtype=np.uint8)\n",
    "DataPlus40 = DataPlus40.reshape(figPlus40.canvas.get_width_height()[::-1] + (3,))\n",
    "histImagePlus40 = Image.fromarray(DataPlus40).resize((255, 255))\n",
    "histNpPlus40 = np.array(histImagePlus40)"
   ]
  },
  {
   "cell_type": "code",
   "execution_count": 19,
   "metadata": {},
   "outputs": [],
   "source": [
    "histStack = np.hstack((histNpMinus40, histNpMinus20, histNpOri, histNpPlus20, histNpPlus40))\n",
    "imageStack = np.hstack((arrMinus40, arrMinus20, arr, arrPlus20, arrPlus40))"
   ]
  },
  {
   "cell_type": "code",
   "execution_count": 21,
   "metadata": {},
   "outputs": [],
   "source": [
    "Image.fromarray(np.vstack((histStack, imageStack))).show()"
   ]
  }
 ],
 "metadata": {
  "interpreter": {
   "hash": "23300995598eec4bcf6bd89cf02d1c3675e8b2616661418dbbf5580aa901878d"
  },
  "kernelspec": {
   "display_name": "Python 3.9.0 64-bit",
   "language": "python",
   "name": "python3"
  },
  "language_info": {
   "codemirror_mode": {
    "name": "ipython",
    "version": 3
   },
   "file_extension": ".py",
   "mimetype": "text/x-python",
   "name": "python",
   "nbconvert_exporter": "python",
   "pygments_lexer": "ipython3",
   "version": "3.9.0"
  },
  "orig_nbformat": 4
 },
 "nbformat": 4,
 "nbformat_minor": 2
}
