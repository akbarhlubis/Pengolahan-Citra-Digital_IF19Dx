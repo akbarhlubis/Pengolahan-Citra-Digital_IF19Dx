{
 "cells": [
  {
   "cell_type": "markdown",
   "metadata": {},
   "source": [
    "## Latihan 3"
   ]
  },
  {
   "cell_type": "code",
   "execution_count": 1,
   "metadata": {},
   "outputs": [],
   "source": [
    "# Mengimport library yang dibutuhkan\n",
    "from PIL import Image\n",
    "import numpy as np"
   ]
  },
  {
   "cell_type": "code",
   "execution_count": 3,
   "metadata": {},
   "outputs": [
    {
     "name": "stdout",
     "output_type": "stream",
     "text": [
      "JPEG\n",
      "(512, 512)\n",
      "RGB\n"
     ]
    }
   ],
   "source": [
    "# Membaca file gambar\n",
    "im = Image.open(\"Lenna.jpg\")\n",
    "print(im.format)\n",
    "print(im.size)\n",
    "print(im.mode)"
   ]
  },
  {
   "cell_type": "code",
   "execution_count": 4,
   "metadata": {},
   "outputs": [
    {
     "name": "stdout",
     "output_type": "stream",
     "text": [
      "<class 'numpy.ndarray'>\n",
      "(512, 512, 3)\n"
     ]
    }
   ],
   "source": [
    "arr = np.array(im.copy())\n",
    "print(type(arr))\n",
    "print(arr.shape)"
   ]
  },
  {
   "cell_type": "code",
   "execution_count": 5,
   "metadata": {},
   "outputs": [],
   "source": [
    "arrRed = arr.copy()\n",
    "arrGreen = arr.copy()\n",
    "arrBlue = arr.copy()"
   ]
  },
  {
   "cell_type": "code",
   "execution_count": 9,
   "metadata": {},
   "outputs": [],
   "source": [
    "for y in range(arr.shape[0]):\n",
    "    for x in range(arr.shape[1]):\n",
    "        arrRed[y, x] = [arr[y, x, 0],0,0]\n",
    "        arrGreen[y, x] = [0,arr[y, x, 1],0]\n",
    "        arrBlue[y, x] = [0,0,arr[y, x, 2]]"
   ]
  },
  {
   "cell_type": "code",
   "execution_count": 10,
   "metadata": {},
   "outputs": [],
   "source": [
    "im2 = Image.fromarray(arrRed)\n",
    "im3 = Image.fromarray(arrGreen)\n",
    "im4 = Image.fromarray(arrBlue)\n",
    "Image.fromarray(np.hstack((np.array(im), np.array(im2), np.array(im3), np.array(im4)))).show()"
   ]
  }
 ],
 "metadata": {
  "interpreter": {
   "hash": "9b02d228b0deb9bd5deb88192194232067fb7f0761ef8eded4fa6ac3b1d9be68"
  },
  "kernelspec": {
   "display_name": "Python 3.9.7 ('base')",
   "language": "python",
   "name": "python3"
  },
  "language_info": {
   "codemirror_mode": {
    "name": "ipython",
    "version": 3
   },
   "file_extension": ".py",
   "mimetype": "text/x-python",
   "name": "python",
   "nbconvert_exporter": "python",
   "pygments_lexer": "ipython3",
   "version": "3.9.7"
  },
  "orig_nbformat": 4
 },
 "nbformat": 4,
 "nbformat_minor": 2
}
