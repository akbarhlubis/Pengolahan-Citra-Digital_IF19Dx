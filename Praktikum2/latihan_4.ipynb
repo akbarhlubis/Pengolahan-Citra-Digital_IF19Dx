{
 "cells": [
  {
   "cell_type": "markdown",
   "metadata": {},
   "source": [
    "# Latihan 4"
   ]
  },
  {
   "cell_type": "markdown",
   "metadata": {},
   "source": [
    "### Library"
   ]
  },
  {
   "cell_type": "code",
   "execution_count": 1,
   "metadata": {},
   "outputs": [],
   "source": [
    "# Mengimport library yang dibutuhkan\n",
    "from PIL import Image\n",
    "import numpy as np"
   ]
  },
  {
   "cell_type": "code",
   "execution_count": 2,
   "metadata": {},
   "outputs": [
    {
     "name": "stdout",
     "output_type": "stream",
     "text": [
      "JPEG\n",
      "(512, 512)\n",
      "RGB\n"
     ]
    }
   ],
   "source": [
    "im = Image.open(\"Lenna.jpg\")\n",
    "print(im.format)\n",
    "print(im.size)\n",
    "print(im.mode)"
   ]
  },
  {
   "cell_type": "code",
   "execution_count": 3,
   "metadata": {},
   "outputs": [
    {
     "name": "stdout",
     "output_type": "stream",
     "text": [
      "<class 'numpy.ndarray'>\n",
      "(512, 512, 3)\n"
     ]
    }
   ],
   "source": [
    "arr = np.array(im.copy())\n",
    "print(type(arr))\n",
    "print(arr.shape)"
   ]
  },
  {
   "cell_type": "code",
   "execution_count": 4,
   "metadata": {},
   "outputs": [],
   "source": [
    "arrMinus40 = arr.copy()\n",
    "arrMinus20 = arr.copy()\n",
    "arrPlus20 = arr.copy()\n",
    "arrPlus40 = arr.copy()"
   ]
  },
  {
   "cell_type": "code",
   "execution_count": 5,
   "metadata": {},
   "outputs": [],
   "source": [
    "for y in range(arr.shape[0]):\n",
    "    for x in range(arr.shape[1]):\n",
    "        akum = (int(arr[y][x][0]) + int(arr[y][x][1]) + int(arr[y][x][2]))\n",
    "        tmp = max(min(int(akum/3), 255), 0)\n",
    "        arr[y,x] = [tmp, tmp, tmp]\n",
    "        tmpMin10 = max(tmp-20, 0)\n",
    "        tmpMin20 = max(tmp-40, 0)\n",
    "        arrMinus20[y,x] = [tmpMin10, tmpMin10, tmpMin10]\n",
    "        arrMinus40[y,x] = [tmpMin20, tmpMin20, tmpMin20]\n",
    "        tmpPlus10 = min(tmp+20, 255)\n",
    "        tmpPlus20 = min(tmp+40, 255)\n",
    "        arrPlus20[y,x] = [tmpPlus10, tmpPlus10, tmpPlus10]\n",
    "        arrPlus40[y,x] = [tmpPlus20, tmpPlus20, tmpPlus20]"
   ]
  },
  {
   "cell_type": "code",
   "execution_count": 6,
   "metadata": {},
   "outputs": [],
   "source": [
    "Image.fromarray(np.hstack((arr, arrMinus20, arrMinus40, arrPlus20, arrPlus40))).show()"
   ]
  }
 ],
 "metadata": {
  "interpreter": {
   "hash": "9b02d228b0deb9bd5deb88192194232067fb7f0761ef8eded4fa6ac3b1d9be68"
  },
  "kernelspec": {
   "display_name": "Python 3.9.7 ('base')",
   "language": "python",
   "name": "python3"
  },
  "language_info": {
   "codemirror_mode": {
    "name": "ipython",
    "version": 3
   },
   "file_extension": ".py",
   "mimetype": "text/x-python",
   "name": "python",
   "nbconvert_exporter": "python",
   "pygments_lexer": "ipython3",
   "version": "3.9.7"
  },
  "orig_nbformat": 4
 },
 "nbformat": 4,
 "nbformat_minor": 2
}
