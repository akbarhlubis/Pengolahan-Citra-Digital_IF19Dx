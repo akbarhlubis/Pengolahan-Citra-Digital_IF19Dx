{
 "cells": [
  {
   "cell_type": "markdown",
   "metadata": {},
   "source": [
    "# Latihan 5\n"
   ]
  },
  {
   "cell_type": "code",
   "execution_count": 2,
   "metadata": {},
   "outputs": [],
   "source": [
    "# Mengimpor library yang dibutuhkan\n",
    "from PIL import Image\n",
    "import numpy as np"
   ]
  },
  {
   "cell_type": "code",
   "execution_count": 3,
   "metadata": {},
   "outputs": [
    {
     "name": "stdout",
     "output_type": "stream",
     "text": [
      "JPEG\n",
      "(512, 512)\n",
      "RGB\n"
     ]
    }
   ],
   "source": [
    "im = Image.open(\"Lenna.jpg\")\n",
    "print(im.format)\n",
    "print(im.size)\n",
    "print(im.mode)"
   ]
  },
  {
   "cell_type": "code",
   "execution_count": 4,
   "metadata": {},
   "outputs": [
    {
     "name": "stdout",
     "output_type": "stream",
     "text": [
      "<class 'numpy.ndarray'>\n",
      "(512, 512, 3)\n"
     ]
    }
   ],
   "source": [
    "arr = np.array(im.copy())\n",
    "print(type(arr))\n",
    "print(arr.shape)"
   ]
  },
  {
   "cell_type": "code",
   "execution_count": 5,
   "metadata": {},
   "outputs": [],
   "source": [
    "arr80persen = arr.copy()\n",
    "arr90persen = arr.copy()\n",
    "arr110persen = arr.copy()\n",
    "arr120persen = arr.copy()"
   ]
  },
  {
   "cell_type": "code",
   "execution_count": 6,
   "metadata": {},
   "outputs": [],
   "source": [
    "for y in range(arr.shape[0]):\n",
    "    for x in range(arr.shape[1]):\n",
    "        akum = (int(arr[y,x,0]) + int(arr[y,x,1]) + int(arr[y,x,2]))\n",
    "        tmp = max(min(int(akum/3),255),0)\n",
    "        arr[y,x] = [tmp,tmp,tmp]\n",
    "        tmp90persen = max(int(tmp*0.9),0)\n",
    "        tmp80persen = max(int(tmp*0.8),0)\n",
    "        arr90persen[y,x] = [tmp90persen,tmp90persen,tmp90persen]\n",
    "        arr80persen[y,x] = [tmp80persen,tmp80persen,tmp80persen]\n",
    "        tmp110persen = max(int(tmp*1.1),255)\n",
    "        tmp120persen = max(int(tmp*1.2),255)\n",
    "        arr110persen[y,x] = [tmp110persen,tmp110persen,tmp110persen]\n",
    "        arr120persen[y,x] = [tmp120persen,tmp120persen,tmp120persen]"
   ]
  },
  {
   "cell_type": "code",
   "execution_count": 7,
   "metadata": {},
   "outputs": [],
   "source": [
    "Image.fromarray(np.hstack((arr,arr80persen,arr90persen,arr110persen,arr120persen))).show()"
   ]
  }
 ],
 "metadata": {
  "interpreter": {
   "hash": "9b02d228b0deb9bd5deb88192194232067fb7f0761ef8eded4fa6ac3b1d9be68"
  },
  "kernelspec": {
   "display_name": "Python 3.9.7 ('base')",
   "language": "python",
   "name": "python3"
  },
  "language_info": {
   "codemirror_mode": {
    "name": "ipython",
    "version": 3
   },
   "file_extension": ".py",
   "mimetype": "text/x-python",
   "name": "python",
   "nbconvert_exporter": "python",
   "pygments_lexer": "ipython3",
   "version": "3.9.7"
  },
  "orig_nbformat": 4
 },
 "nbformat": 4,
 "nbformat_minor": 2
}
